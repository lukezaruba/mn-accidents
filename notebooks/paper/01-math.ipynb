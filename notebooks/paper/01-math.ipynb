{
 "cells": [
  {
   "cell_type": "markdown",
   "metadata": {},
   "source": [
    "# Mathematical Notation for Traffic Accident Hotspot Detection\n",
    "\n",
    "Luke Zaruba, Bryan Runck"
   ]
  },
  {
   "cell_type": "markdown",
   "metadata": {},
   "source": [
    "## LISA\n",
    "\n",
    "![Local Moran's I](https://pro.arcgis.com/en/pro-app/latest/tool-reference/spatial-statistics/GUID-3638FD3C-9405-4A52-A3DE-5F209866C306-web.png)\n",
    "\n",
    "[Source](https://pro.arcgis.com/en/pro-app/latest/tool-reference/spatial-statistics/h-how-cluster-and-outlier-analysis-anselin-local-m.htm)\n",
    "\n",
    "[Paper](https://onlinelibrary.wiley.com/doi/epdf/10.1111/j.1538-4632.1995.tb00338.x)"
   ]
  },
  {
   "cell_type": "markdown",
   "metadata": {},
   "source": [
    "## A-DBSCAN\n",
    "\n",
    "![Pseudocode](https://ars.els-cdn.com/content/image/1-s2.0-S0094119019300944-gr11_lrg.jpg)\n",
    "\n",
    "1. Split the dataset into two random subsets, one of them potentially smaller than the other (e.g. 10%/90%).\n",
    "\n",
    "2. Run the original DBSCAN algorithm on one of the subsamples to obtain a set of cluster labels for each point in that subset.\n",
    "\n",
    "3. For each point in the second subset, assign the label of the nearest point in the first subset.\n",
    "\n",
    "4. Save the entire set of labels as a single candidate solution.\n",
    "\n",
    "5. Repeat steps 1–4 a reasonably large amount of times (e.g. 1,000), obtaining several candidate solutions.\n",
    "\n",
    "6. Align labels across candidate solutions so a given label represents the same cluster in each of the replications. This can be done in the following way:\n",
    "    (a) Set the solution with most clusters as reference.\n",
    "    (b) For each cluster in the remaining solutions, find the nearest cluster in the reference and assign its label. In this context, nearest can be expressed as the shortest distance between the centroids of the two clusters.\n",
    "7. For each point in the dataset, obtain the most common label and the proportion of times across candidate solutions where that label is assigned.\n",
    "\n",
    "8. If the most common label appears a proportion of times that is smaller than a desired threshold (e.g. 90%), label the observation as noise; otherwise assign the most common label as the label for that point.\n",
    "\n",
    "[Source](https://www.sciencedirect.com/science/article/pii/S0094119019300944#fig0011)"
   ]
  },
  {
   "cell_type": "markdown",
   "metadata": {},
   "source": [
    "## STCO\n",
    "$ \\boldsymbol{procedure} \\text{ } Temporal \\text{ } ADBSCAN(XYT, period, \\epsilon , min\\_pts\\_pct, pct_{thin}, thr)\\\\\n",
    "\\qquad D \\leftarrow \\text{Dataset of point locations with timestamp } (XY \\text{ coordinates and timestamp } T)\\\\\n",
    "\\qquad P \\leftarrow \\text{Unique Periods of type } period \\text{ in }D \\\\\n",
    "\\qquad C \\leftarrow \\emptyset \\\\\n",
    "\\qquad \\boldsymbol{for} \\text{ p in P } \\boldsymbol{do}\\\\\n",
    "\\qquad \\qquad d \\leftarrow D_T = p\\\\\n",
    "\\qquad \\qquad ADBSCAN_p \\leftarrow ADBSCAN(d_{XY}, \\epsilon, \\lvert d \\rvert * min\\_pts\\_pct, pct_{thin}, thr)\\\\\n",
    "\\qquad \\qquad Clusters_p \\leftarrow GET \\text{ } BOUNDARIES(ADBSCAN_p)\\\\\n",
    "\\qquad \\qquad C \\leftarrow C \\cup Clusters_p\n",
    "$\n",
    "\n",
    "$ \\boldsymbol{procedure} \\text{ } Weighted \\text{ } STCO(clusters)\\\\\n",
    "\\qquad D \\leftarrow \\text{Dataset of cluster polygons with period } p\\\\\n",
    "\\qquad P \\leftarrow \\text{Sorted Unique Periods in }D \\\\\n",
    "\\qquad W \\leftarrow \\emptyset \\\\\n",
    "\\qquad \\boldsymbol{for} \\text{ } index, value \\text{ in P } \\boldsymbol{do}\\\\\n",
    "\\qquad \\qquad W \\leftarrow W \\cup {(value, index + 1)}\\\\\n",
    "\\qquad Sum_W \\leftarrow \\sum^{\\lvert W \\rvert}_{i=1} W_{i, 1}\\\\\n",
    "\\qquad \\boldsymbol{for} \\text{ } cluster \\text{ in } D \\text{ } \\boldsymbol{do}\\\\\n",
    "\\qquad \\qquad cluster_w \\leftarrow W_{cluster_p, 1} / Sum_W\\\\\n",
    "\\qquad centroids \\leftarrow UNARY \\text{ } UNION(EXTERIOR(D))_{centroids}\\\\\n",
    "\\qquad WO \\leftarrow SPATIAL \\text{ } JOIN(centroids, D)\\\\\n",
    "\\qquad \\boldsymbol{for} \\text{ } overlap \\text{ in } WO \\text{ } \\boldsymbol{do}\\\\\n",
    "\\qquad \\qquad overlap_w \\leftarrow \\sum_{overlap \\in WO} overlap_w\n",
    "$\n",
    "\n",
    "$ \\boldsymbol{procedure} \\text{ } Simple \\text{ } STCO(clusters)\\\\\n",
    "\\qquad D \\leftarrow \\text{Dataset of cluster polygons}\\\\\n",
    "\\qquad centroids \\leftarrow UNARY \\text{ } UNION(EXTERIOR(D))_{centroids}\\\\\n",
    "\\qquad SO \\leftarrow SPATIAL \\text{ } JOIN(centroids, D)\\\\\n",
    "\\qquad \\boldsymbol{for} \\text{ } overlap \\text{ in } SO \\text{ } \\boldsymbol{do}\\\\\n",
    "\\qquad \\qquad overlap_w \\leftarrow \\lvert SO_{overlap} \\rvert\n",
    "$"
   ]
  },
  {
   "cell_type": "markdown",
   "metadata": {},
   "source": [
    "## STCEC\n",
    "\n",
    "$ \\boldsymbol{procedure} \\text{ } STCEC(clusters, significance)\\\\\n",
    "\\qquad D \\leftarrow \\text{Dataset of cluster polygons with period } p\\\\\n",
    "\\qquad P \\leftarrow \\text{Sorted Unique Periods in }D \\\\\n",
    "\\qquad centroids \\leftarrow UNARY \\text{ } UNION(EXTERIOR(D))_centroids\\\\\n",
    "\\qquad SO \\leftarrow SPATIAL \\text{ } JOIN(centroids, D)\\\\\n",
    "\\qquad \\boldsymbol{for} \\text{ } overlap \\text{ in } SO \\text{ } \\boldsymbol{do}\\\\\n",
    "\\qquad \\qquad overlap_{indexes} \\leftarrow overlap_{indexes} \\cup overlap_i\\\\\n",
    "\\qquad indexes \\leftarrow Sort(Unique(SO_{overlap \\text{ } indexes}))\\\\\n",
    "\\qquad length \\leftarrow \\lvert indexes \\rvert\\\\\n",
    "\\qquad significance\\_length \\leftarrow length * significance\\\\\n",
    "\\qquad most\\_recent\\_index \\leftarrow indexes[-1:]_{0}\\\\\n",
    "\\qquad second\\_most\\_recent\\_index \\leftarrow indexes[-2:-1]_{_0}\\\\\n",
    "\\qquad \\boldsymbol{for} \\text{ } overlap \\text{ in } SO \\text{ } \\boldsymbol{do}\\\\\n",
    "\\qquad \\qquad \\boldsymbol{if} \\text{ } \\lvert overlap_{indexes} \\rvert \\geq significance\\_length \\text{ } \\boldsymbol{then}\\\\\n",
    "\\qquad \\qquad \\qquad \\boldsymbol{if} \\text{ } most\\_recent\\_index \\in overlap_{indexes} \\text{ } \\boldsymbol{then}\\\\\n",
    "\\qquad \\qquad \\qquad \\qquad overlap_{class} \\leftarrow PERSISTENT\\\\\n",
    "\\qquad \\qquad \\qquad \\boldsymbol{else}\\\\\n",
    "\\qquad \\qquad \\qquad \\qquad overlap_{class} \\leftarrow HISTORICAL\\\\\n",
    "\\qquad \\qquad \\boldsymbol{else}\\\\\n",
    "\\qquad \\qquad \\qquad \\boldsymbol{if} \\text{ } \\lvert overlap_{indexes} \\rvert = 1 \\text{ } \\boldsymbol{then}\\\\\n",
    "\\qquad \\qquad \\qquad \\qquad \\boldsymbol{if} \\text{ } most\\_recent\\_index \\in overlap_{indexes} \\text{ } \\boldsymbol{then}\\\\\n",
    "\\qquad \\qquad \\qquad \\qquad \\qquad overlap_{class} \\leftarrow NEW\\\\\n",
    "\\qquad \\qquad \\qquad \\qquad \\boldsymbol{else}\\\\\n",
    "\\qquad \\qquad \\qquad \\qquad \\qquad overlap_{class} \\leftarrow SPORADIC\\\\\n",
    "\\qquad \\qquad \\qquad \\boldsymbol{else}\\\\\n",
    "\\qquad \\qquad \\qquad \\qquad \\boldsymbol{if} \\text{ } most\\_recent\\_index \\in overlap_{indexes} \\land second\\_most\\_recent\\_index \\in overlap_{indexes} \\text{ } \\boldsymbol{then}\\\\\n",
    "\\qquad \\qquad \\qquad \\qquad \\qquad overlap_{class} \\leftarrow INTENSIFYING\\\\\n",
    "\\qquad \\qquad \\qquad \\qquad \\boldsymbol{else}\\\\\n",
    "\\qquad \\qquad \\qquad \\qquad \\qquad \\boldsymbol{for} \\text{ } i \\text{ in } \\lvert overlap_{indexes} \\rvert \\text{ } \\boldsymbol{do}\\\\\n",
    "\\qquad \\qquad \\qquad \\qquad \\qquad \\qquad consecutive \\leftarrow overlap_{indexes, i} + 1 = overlap_{indexes, i + 1}\\\\\n",
    "\\qquad \\qquad \\qquad \\qquad \\qquad \\boldsymbol{if} \\text{ } consecutive = TRUE \\text{ } \\boldsymbol{then}\\\\\n",
    "\\qquad \\qquad \\qquad \\qquad \\qquad \\qquad overlap_{class} \\leftarrow DIMINISHING\\\\\n",
    "\\qquad \\qquad \\qquad \\qquad \\qquad \\boldsymbol{else}\\\\\n",
    "\\qquad \\qquad \\qquad \\qquad \\qquad \\qquad overlap_{class} \\leftarrow OCCASIONAL\n",
    "$"
   ]
  }
 ],
 "metadata": {
  "language_info": {
   "name": "python"
  }
 },
 "nbformat": 4,
 "nbformat_minor": 2
}
