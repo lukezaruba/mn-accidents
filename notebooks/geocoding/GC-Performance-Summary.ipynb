{
 "cells": [
  {
   "cell_type": "markdown",
   "metadata": {},
   "source": [
    "# Geocoding Architecture Assessment\n",
    "\n",
    "This notebook contains the summary of various assessments that were used to test the performance and accuracy of various geocoding processes.\n",
    "\n",
    "Below is a summary of the metrics:\n",
    "\n",
    "Execution time is the sum of the run time to complete the standardization and geocoding of 100 sample records.\n",
    "\n",
    "Performance is measured by several different metrics, including the Mean, Standard Deviation, RMSE, and MAE of error in the X and Y directions (Manhattan Distance), as well as the percentile error for 75, 90, and 95% of the Euclidean Distance. The percentile error analysis produces the threshold value which signifies the distance within which the predicted coordinates are considered accurate and the percentage value which indicates the portion of points that fall within the specified error threshold (75, 90, or 95)."
   ]
  },
  {
   "cell_type": "markdown",
   "metadata": {},
   "source": [
    "| Geocoding Process | Mean Error | Standard Deviation Error | MAE | RMSE | 75% Error Threshold | 90% Error Threshold | 95% Error Threshold | Execution Time |\n",
    "| :---------------: | :--------: | :----------------------: | :-: | :--: | :-----------------: | :-----------------: | :-----------------: | :------------: |\n",
    "| Google with GPT 3.5 Standardization | 0.1012 | 1.8537 | 0.3698 | 1.8565 | 0.0683 | 0.3593 | 3.3496 | 1m 59.9s | \n",
    "| Google with No Standardization | 0.1047 | 1.1383 | 0.2643 | 1.1431 | 0.0849 | 0.4171 | 3.3496 | 0m 23.2s |\n",
    "| Esri with GPT 3.5 Standardization | 0.0116 | 0.5748 | 0.0736 | 0.5749 | 0.0364 | 0.0641 | 0.1171 | 2m 22.7s |\n",
    "| Esri with No Standardization | 0.0001 | 0.0396 | 0.0174 | 0.0396 | 0.0362 | 0.0586 | 0.1171 | 0m 51.0s |\n",
    "| GPT 3.5 Geocoding | 2.1261 | 80.0219 | 45.4158 | 80.0502 | 195.5429 | 197.8630 | 199.1255 | 1m 11.9s |"
   ]
  },
  {
   "cell_type": "markdown",
   "metadata": {},
   "source": [
    "Based on the analyses performed, a couple key observations are made.\n",
    "\n",
    "1. The Esri geocoder seems to be more accurate for this use case compared to Google, but is far less performant.\n",
    "2. The GPT 3.5 LLM standardization process seems to actually decrease accuracy. This does correlate with knowledge from previous lietrature which points out the model's lack of inherent geospatial capabilities. Had a customized, domain-specific version of the model been used, the results may have been different.\n",
    "3. Going off of the second point, GPT 3.5 can not accurately geocode addresses directly. Although the metrics do appear signficantly worse than the others, if a few outliers are taken out of the picture, the results do not visually look much different than some of the others.\n",
    "\n",
    "Therefore, the Esri geocoder will be used to directly geocode the raw location descriptions in the production version of this application, given the significant advantages in terms of accuracy."
   ]
  }
 ],
 "metadata": {
  "language_info": {
   "name": "python"
  },
  "orig_nbformat": 4
 },
 "nbformat": 4,
 "nbformat_minor": 2
}
